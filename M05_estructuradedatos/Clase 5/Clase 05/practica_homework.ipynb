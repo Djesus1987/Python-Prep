{
 "cells": [
  {
   "cell_type": "code",
   "execution_count": 57,
   "metadata": {},
   "outputs": [],
   "source": [
    "import random as rd\n",
    "\n",
    "        \n",
    "\n",
    "   "
   ]
  },
  {
   "cell_type": "code",
   "execution_count": 80,
   "metadata": {},
   "outputs": [
    {
     "name": "stdout",
     "output_type": "stream",
     "text": [
      "sigue intentando\n",
      "sigue intentando\n",
      "Perdiste has agotado tus intentos, el numero secreto era 10\n"
     ]
    }
   ],
   "source": [
    "import random\n",
    "\n",
    "contador=0\n",
    "while True:\n",
    "    \n",
    "    numero_secreto = random.randint(1, 10)\n",
    "    adivinanza = int(input(\"Adivina el número (entre 1 y 10): \"))\n",
    "    if adivinanza == numero_secreto:\n",
    "        print(f\"¡Correcto! Adivinaste el número, efectivamente el numero era {numero_secreto}.\")\n",
    "        break\n",
    "    if contador == 2:\n",
    "        print(f'Perdiste has agotado tus intentos, el numero secreto era {numero_secreto}')\n",
    "        break\n",
    "\n",
    "    else:\n",
    "        print('sigue intentando')\n",
    "    contador +=1\n",
    "        "
   ]
  }
 ],
 "metadata": {
  "kernelspec": {
   "display_name": "Python 3",
   "language": "python",
   "name": "python3"
  },
  "language_info": {
   "codemirror_mode": {
    "name": "ipython",
    "version": 3
   },
   "file_extension": ".py",
   "mimetype": "text/x-python",
   "name": "python",
   "nbconvert_exporter": "python",
   "pygments_lexer": "ipython3",
   "version": "3.12.0"
  }
 },
 "nbformat": 4,
 "nbformat_minor": 2
}
