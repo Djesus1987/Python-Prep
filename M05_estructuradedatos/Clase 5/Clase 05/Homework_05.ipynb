{
 "cells": [
  {
   "cell_type": "markdown",
   "metadata": {},
   "source": [
    "# Práctica Clase 5"
   ]
  },
  {
   "cell_type": "markdown",
   "metadata": {},
   "source": [
    "1) Implementar un juego, que consista en apilar números enteros del 1 al 20, de forma aleatoria, para lo cual debe usarse una estructura de Pila. \n",
    "Luego, el usuario debe elegir un número de veces en que se va a quitar elementos de la pila, los cuales, sumados entre sí, no deben superar el valor de 50.\n",
    "El usuario pierde si la suma supera ese valor. Si no lo supera, gana, pero su calificación será 10 menos el número elementos que falten quitar para todavía no superar 50.\n",
    "El programa debe informar si perdió, y si ganó, con qué calificación lo hizo.\n",
    "\n",
    "Consideraciones:<br>\n",
    "a. Se puede usar la función input() para obtener una entrada de teclado.<br>\n",
    "b. Se puede usar la el modulo random para obtener valores aleatorios."
   ]
  },
  {
   "cell_type": "code",
   "execution_count": 11,
   "metadata": {},
   "outputs": [
    {
     "name": "stdout",
     "output_type": "stream",
     "text": [
      "Pila inicial: [14, 13, 1, 2, 16, 11, 7, 6, 5, 9, 17, 18, 20, 15, 19, 3, 4, 8, 10, 12]\n",
      "Ganaste! La suma de los elementos es 37, que es menor  a 50.\n",
      "Tu calificación es: 5\n"
     ]
    }
   ],
   "source": [
    "import random as rdm\n",
    "\n",
    "\n",
    "    \n",
    "def crear_pila():\n",
    "    # Crear una lista con números del 1 al 20 y mezclarla\n",
    "    numeros = list(range(1, 21))\n",
    "    rdm.shuffle(numeros) #para mezclar los numeros de forma aleatoria\n",
    "    return numeros\n",
    "\n",
    "def jugar():\n",
    "    # Crear la pila\n",
    "    pila = crear_pila()\n",
    "    print(\"Pila inicial:\", pila)\n",
    "\n",
    "    # Obtener el número de elementos a quitar de la pila\n",
    "    while True:\n",
    "        try:\n",
    "            num_elementos = int(input(\"Introduce el número de elementos que quieres quitar de la pila: \"))\n",
    "            if num_elementos > 0 and num_elementos <= len(pila):\n",
    "                break\n",
    "            else:\n",
    "                print(\"Por favor, introduce un número válido de elementos a quitar.\")\n",
    "        except ValueError:\n",
    "            print(\"Por favor, introduce un número entero.\")\n",
    "\n",
    "    # Quitar los elementos de la pila y sumarlos\n",
    "    suma = 0\n",
    "    for _ in range(num_elementos):\n",
    "        suma += pila.pop()\n",
    "\n",
    "    # Determinar si el usuario gana o pierde\n",
    "    if suma > 50:\n",
    "        print(f\"Perdiste! La suma de los elementos es {suma}, que es mayor que 50.\")\n",
    "    else:\n",
    "        calificacion = 10 - num_elementos\n",
    "        print(f\"Ganaste! La suma de los elementos es {suma}, que es menor  a 50.\")\n",
    "        print(f\"Tu calificación es: {calificacion}\")\n",
    "\n",
    "# Ejecutar el juego\n",
    "jugar()\n"
   ]
  },
  {
   "cell_type": "markdown",
   "metadata": {},
   "source": [
    "2) Implementar un juego donde constas de 2 jarras, de capacidad 5 y 3 litros respectivamente, y debes colocar 4 litros en la jarra de 5L.\n",
    "Las opciones posibles son:\n",
    "* Llenar la jarra de 3 litros\n",
    "* Llenar la jarra de 5 litros\n",
    "* Vaciar la jarra de 3 litros\n",
    "* Vaciar la jarra de 5 litros\n",
    "* Verter el contenido de la jarra de 3 litros en la de 5 litros\n",
    "* Verter el contenido de la jarra de 5 litros en la de 3 litros"
   ]
  },
  {
   "cell_type": "code",
   "execution_count": null,
   "metadata": {},
   "outputs": [],
   "source": []
  }
 ],
 "metadata": {
  "kernelspec": {
   "display_name": "Python 3.11.3 64-bit",
   "language": "python",
   "name": "python3"
  },
  "language_info": {
   "codemirror_mode": {
    "name": "ipython",
    "version": 3
   },
   "file_extension": ".py",
   "mimetype": "text/x-python",
   "name": "python",
   "nbconvert_exporter": "python",
   "pygments_lexer": "ipython3",
   "version": "3.12.0"
  },
  "vscode": {
   "interpreter": {
    "hash": "52634da84371cba311ea128a5ea7cdc41ff074b781779e754b270ff9f8153cee"
   }
  }
 },
 "nbformat": 4,
 "nbformat_minor": 4
}
